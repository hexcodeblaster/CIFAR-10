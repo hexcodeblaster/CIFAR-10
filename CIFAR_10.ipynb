{
  "nbformat": 4,
  "nbformat_minor": 0,
  "metadata": {
    "colab": {
      "name": "CIFAR 10.ipynb",
      "provenance": [],
      "authorship_tag": "ABX9TyNYKxcxeLXM4Q/uU0666vfd",
      "include_colab_link": true
    },
    "kernelspec": {
      "name": "python3",
      "display_name": "Python 3"
    },
    "language_info": {
      "name": "python"
    },
    "accelerator": "GPU"
  },
  "cells": [
    {
      "cell_type": "markdown",
      "metadata": {
        "id": "view-in-github",
        "colab_type": "text"
      },
      "source": [
        "<a href=\"https://colab.research.google.com/github/hexcodeblaster/CIFAR-10/blob/main/CIFAR_10.ipynb\" target=\"_parent\"><img src=\"https://colab.research.google.com/assets/colab-badge.svg\" alt=\"Open In Colab\"/></a>"
      ]
    },
    {
      "cell_type": "code",
      "execution_count": 1,
      "metadata": {
        "id": "K-crSWRXuTAs"
      },
      "outputs": [],
      "source": [
        "from keras.layers import Conv2D,MaxPool2D,Flatten,Dense,Input,Dropout\n",
        "from keras.datasets import cifar10\n",
        "from keras import Model\n",
        "from keras.applications import vgg16"
      ]
    },
    {
      "cell_type": "code",
      "source": [
        "(x_train, y_train), (x_test, y_test) = cifar10.load_data()"
      ],
      "metadata": {
        "colab": {
          "base_uri": "https://localhost:8080/"
        },
        "id": "DbjTW-1wuayr",
        "outputId": "3c5443dd-960b-4a52-9e04-f36e7a9189bb"
      },
      "execution_count": 2,
      "outputs": [
        {
          "output_type": "stream",
          "name": "stdout",
          "text": [
            "Downloading data from https://www.cs.toronto.edu/~kriz/cifar-10-python.tar.gz\n",
            "170500096/170498071 [==============================] - 3s 0us/step\n",
            "170508288/170498071 [==============================] - 3s 0us/step\n"
          ]
        }
      ]
    },
    {
      "cell_type": "code",
      "source": [
        "x_train.shape"
      ],
      "metadata": {
        "colab": {
          "base_uri": "https://localhost:8080/"
        },
        "id": "n3l_O7TVwVqW",
        "outputId": "79ee6bdd-b264-4b75-c5f6-395465b40a48"
      },
      "execution_count": 3,
      "outputs": [
        {
          "output_type": "execute_result",
          "data": {
            "text/plain": [
              "(50000, 32, 32, 3)"
            ]
          },
          "metadata": {},
          "execution_count": 3
        }
      ]
    },
    {
      "cell_type": "code",
      "source": [
        "x_test.shape"
      ],
      "metadata": {
        "colab": {
          "base_uri": "https://localhost:8080/"
        },
        "id": "Gv7WKPxLwYPu",
        "outputId": "bb513582-8299-49ae-fd0d-6c790d51b817"
      },
      "execution_count": 4,
      "outputs": [
        {
          "output_type": "execute_result",
          "data": {
            "text/plain": [
              "(10000, 32, 32, 3)"
            ]
          },
          "metadata": {},
          "execution_count": 4
        }
      ]
    },
    {
      "cell_type": "code",
      "source": [
        "y_train.shape"
      ],
      "metadata": {
        "colab": {
          "base_uri": "https://localhost:8080/"
        },
        "id": "sIo0K6gywZ8A",
        "outputId": "e71c2c6d-2c57-4b51-db2e-e3067c0e61e7"
      },
      "execution_count": 5,
      "outputs": [
        {
          "output_type": "execute_result",
          "data": {
            "text/plain": [
              "(50000, 1)"
            ]
          },
          "metadata": {},
          "execution_count": 5
        }
      ]
    },
    {
      "cell_type": "code",
      "source": [
        "y_test.shape"
      ],
      "metadata": {
        "colab": {
          "base_uri": "https://localhost:8080/"
        },
        "id": "YdgKPscTwcVL",
        "outputId": "c63da206-8318-45ac-bf6f-6af21eb5a47e"
      },
      "execution_count": 6,
      "outputs": [
        {
          "output_type": "execute_result",
          "data": {
            "text/plain": [
              "(10000, 1)"
            ]
          },
          "metadata": {},
          "execution_count": 6
        }
      ]
    },
    {
      "cell_type": "code",
      "source": [
        "y_train.ravel()"
      ],
      "metadata": {
        "colab": {
          "base_uri": "https://localhost:8080/"
        },
        "id": "9zPy09hbzaHL",
        "outputId": "408fcdbe-6ec4-4988-c737-04acda4de159"
      },
      "execution_count": 7,
      "outputs": [
        {
          "output_type": "execute_result",
          "data": {
            "text/plain": [
              "array([6, 9, 9, ..., 9, 1, 1], dtype=uint8)"
            ]
          },
          "metadata": {},
          "execution_count": 7
        }
      ]
    },
    {
      "cell_type": "code",
      "source": [
        "y_train=y_train.flatten()\n",
        "y_test= y_test.flatten()"
      ],
      "metadata": {
        "id": "9UHM6b_QzrN3"
      },
      "execution_count": 8,
      "outputs": []
    },
    {
      "cell_type": "code",
      "source": [
        "input=Input(shape=(32,32,3))\n",
        "x= Conv2D(32,3, activation='relu')(input)\n",
        "x= MaxPool2D()(x)\n",
        "x= Conv2D(64,3,activation='relu')(x)\n",
        "x= MaxPool2D()(x)\n",
        "x= Conv2D(128,3,activation='relu')(x)\n",
        "x= MaxPool2D()(x)\n",
        "x= Flatten()(x)\n",
        "x= Dense(64,activation='relu')(x)\n",
        "x= Dense(32,activation='relu')(x)\n",
        "x= Dropout(0.2)(x)\n",
        "x= Dense(32,activation='relu')(x)\n",
        "output= Dense(10, activation='softmax')(x)\n",
        "model= Model(input,output)\n",
        "model.compile(optimizer='adam',metrics='accuracy',loss='SparseCategoricalCrossentropy',)"
      ],
      "metadata": {
        "id": "lormKxR8wdHM"
      },
      "execution_count": 30,
      "outputs": []
    },
    {
      "cell_type": "code",
      "source": [
        "model.summary()"
      ],
      "metadata": {
        "colab": {
          "base_uri": "https://localhost:8080/"
        },
        "id": "o1LEZgQoyuYL",
        "outputId": "40fa6051-b3c1-4b33-fdb3-ffefb5dc7a01"
      },
      "execution_count": 31,
      "outputs": [
        {
          "output_type": "stream",
          "name": "stdout",
          "text": [
            "Model: \"model_5\"\n",
            "_________________________________________________________________\n",
            " Layer (type)                Output Shape              Param #   \n",
            "=================================================================\n",
            " input_7 (InputLayer)        [(None, 32, 32, 3)]       0         \n",
            "                                                                 \n",
            " conv2d_9 (Conv2D)           (None, 30, 30, 32)        896       \n",
            "                                                                 \n",
            " max_pooling2d_9 (MaxPooling  (None, 15, 15, 32)       0         \n",
            " 2D)                                                             \n",
            "                                                                 \n",
            " conv2d_10 (Conv2D)          (None, 13, 13, 64)        18496     \n",
            "                                                                 \n",
            " max_pooling2d_10 (MaxPoolin  (None, 6, 6, 64)         0         \n",
            " g2D)                                                            \n",
            "                                                                 \n",
            " conv2d_11 (Conv2D)          (None, 4, 4, 128)         73856     \n",
            "                                                                 \n",
            " max_pooling2d_11 (MaxPoolin  (None, 2, 2, 128)        0         \n",
            " g2D)                                                            \n",
            "                                                                 \n",
            " flatten_5 (Flatten)         (None, 512)               0         \n",
            "                                                                 \n",
            " dense_17 (Dense)            (None, 64)                32832     \n",
            "                                                                 \n",
            " dense_18 (Dense)            (None, 32)                2080      \n",
            "                                                                 \n",
            " dropout_3 (Dropout)         (None, 32)                0         \n",
            "                                                                 \n",
            " dense_19 (Dense)            (None, 32)                1056      \n",
            "                                                                 \n",
            " dense_20 (Dense)            (None, 10)                330       \n",
            "                                                                 \n",
            "=================================================================\n",
            "Total params: 129,546\n",
            "Trainable params: 129,546\n",
            "Non-trainable params: 0\n",
            "_________________________________________________________________\n"
          ]
        }
      ]
    },
    {
      "cell_type": "code",
      "source": [
        "model.fit(x_train,y_train,epochs=40,verbose=2)"
      ],
      "metadata": {
        "colab": {
          "base_uri": "https://localhost:8080/"
        },
        "id": "AnS_bknjywLh",
        "outputId": "3bc45c69-61e9-4d68-f47f-939d4a6445cd"
      },
      "execution_count": 32,
      "outputs": [
        {
          "output_type": "stream",
          "name": "stdout",
          "text": [
            "Epoch 1/40\n",
            "1563/1563 - 10s - loss: 1.9301 - accuracy: 0.2846 - 10s/epoch - 7ms/step\n",
            "Epoch 2/40\n",
            "1563/1563 - 9s - loss: 1.5597 - accuracy: 0.4258 - 9s/epoch - 6ms/step\n",
            "Epoch 3/40\n",
            "1563/1563 - 10s - loss: 1.3903 - accuracy: 0.5008 - 10s/epoch - 6ms/step\n",
            "Epoch 4/40\n",
            "1563/1563 - 10s - loss: 1.2579 - accuracy: 0.5560 - 10s/epoch - 6ms/step\n",
            "Epoch 5/40\n",
            "1563/1563 - 9s - loss: 1.1575 - accuracy: 0.6001 - 9s/epoch - 6ms/step\n",
            "Epoch 6/40\n",
            "1563/1563 - 9s - loss: 1.0827 - accuracy: 0.6285 - 9s/epoch - 6ms/step\n",
            "Epoch 7/40\n",
            "1563/1563 - 10s - loss: 1.0169 - accuracy: 0.6518 - 10s/epoch - 6ms/step\n",
            "Epoch 8/40\n",
            "1563/1563 - 9s - loss: 0.9591 - accuracy: 0.6716 - 9s/epoch - 6ms/step\n",
            "Epoch 9/40\n",
            "1563/1563 - 9s - loss: 0.9136 - accuracy: 0.6909 - 9s/epoch - 6ms/step\n",
            "Epoch 10/40\n",
            "1563/1563 - 9s - loss: 0.8738 - accuracy: 0.7055 - 9s/epoch - 6ms/step\n",
            "Epoch 11/40\n",
            "1563/1563 - 9s - loss: 0.8231 - accuracy: 0.7202 - 9s/epoch - 6ms/step\n",
            "Epoch 12/40\n",
            "1563/1563 - 9s - loss: 0.7938 - accuracy: 0.7331 - 9s/epoch - 6ms/step\n",
            "Epoch 13/40\n",
            "1563/1563 - 9s - loss: 0.7618 - accuracy: 0.7434 - 9s/epoch - 6ms/step\n",
            "Epoch 14/40\n",
            "1563/1563 - 9s - loss: 0.7298 - accuracy: 0.7555 - 9s/epoch - 6ms/step\n",
            "Epoch 15/40\n",
            "1563/1563 - 9s - loss: 0.7041 - accuracy: 0.7657 - 9s/epoch - 6ms/step\n",
            "Epoch 16/40\n",
            "1563/1563 - 9s - loss: 0.6781 - accuracy: 0.7727 - 9s/epoch - 6ms/step\n",
            "Epoch 17/40\n",
            "1563/1563 - 9s - loss: 0.6589 - accuracy: 0.7796 - 9s/epoch - 6ms/step\n",
            "Epoch 18/40\n",
            "1563/1563 - 9s - loss: 0.6225 - accuracy: 0.7926 - 9s/epoch - 6ms/step\n",
            "Epoch 19/40\n",
            "1563/1563 - 9s - loss: 0.6066 - accuracy: 0.7995 - 9s/epoch - 6ms/step\n",
            "Epoch 20/40\n",
            "1563/1563 - 9s - loss: 0.5755 - accuracy: 0.8086 - 9s/epoch - 6ms/step\n",
            "Epoch 21/40\n",
            "1563/1563 - 9s - loss: 0.5639 - accuracy: 0.8128 - 9s/epoch - 6ms/step\n",
            "Epoch 22/40\n",
            "1563/1563 - 9s - loss: 0.5491 - accuracy: 0.8186 - 9s/epoch - 6ms/step\n",
            "Epoch 23/40\n",
            "1563/1563 - 9s - loss: 0.5308 - accuracy: 0.8251 - 9s/epoch - 6ms/step\n",
            "Epoch 24/40\n",
            "1563/1563 - 9s - loss: 0.5106 - accuracy: 0.8330 - 9s/epoch - 6ms/step\n",
            "Epoch 25/40\n",
            "1563/1563 - 9s - loss: 0.4989 - accuracy: 0.8374 - 9s/epoch - 6ms/step\n",
            "Epoch 26/40\n",
            "1563/1563 - 9s - loss: 0.4826 - accuracy: 0.8405 - 9s/epoch - 6ms/step\n",
            "Epoch 27/40\n",
            "1563/1563 - 9s - loss: 0.4587 - accuracy: 0.8495 - 9s/epoch - 6ms/step\n",
            "Epoch 28/40\n",
            "1563/1563 - 9s - loss: 0.4562 - accuracy: 0.8522 - 9s/epoch - 6ms/step\n",
            "Epoch 29/40\n",
            "1563/1563 - 9s - loss: 0.4432 - accuracy: 0.8580 - 9s/epoch - 6ms/step\n",
            "Epoch 30/40\n",
            "1563/1563 - 9s - loss: 0.4300 - accuracy: 0.8619 - 9s/epoch - 6ms/step\n",
            "Epoch 31/40\n",
            "1563/1563 - 9s - loss: 0.4305 - accuracy: 0.8624 - 9s/epoch - 6ms/step\n",
            "Epoch 32/40\n",
            "1563/1563 - 9s - loss: 0.4178 - accuracy: 0.8672 - 9s/epoch - 6ms/step\n",
            "Epoch 33/40\n",
            "1563/1563 - 9s - loss: 0.4059 - accuracy: 0.8711 - 9s/epoch - 6ms/step\n",
            "Epoch 34/40\n",
            "1563/1563 - 9s - loss: 0.4009 - accuracy: 0.8711 - 9s/epoch - 6ms/step\n",
            "Epoch 35/40\n",
            "1563/1563 - 9s - loss: 0.3819 - accuracy: 0.8790 - 9s/epoch - 6ms/step\n",
            "Epoch 36/40\n",
            "1563/1563 - 9s - loss: 0.3671 - accuracy: 0.8837 - 9s/epoch - 6ms/step\n",
            "Epoch 37/40\n",
            "1563/1563 - 9s - loss: 0.3807 - accuracy: 0.8792 - 9s/epoch - 6ms/step\n",
            "Epoch 38/40\n",
            "1563/1563 - 9s - loss: 0.3615 - accuracy: 0.8847 - 9s/epoch - 6ms/step\n",
            "Epoch 39/40\n",
            "1563/1563 - 9s - loss: 0.3456 - accuracy: 0.8896 - 9s/epoch - 6ms/step\n",
            "Epoch 40/40\n",
            "1563/1563 - 9s - loss: 0.3437 - accuracy: 0.8906 - 9s/epoch - 6ms/step\n"
          ]
        },
        {
          "output_type": "execute_result",
          "data": {
            "text/plain": [
              "<keras.callbacks.History at 0x7f94fbd51f10>"
            ]
          },
          "metadata": {},
          "execution_count": 32
        }
      ]
    },
    {
      "cell_type": "code",
      "source": [
        "model.evaluate(x_test,y_test)"
      ],
      "metadata": {
        "colab": {
          "base_uri": "https://localhost:8080/"
        },
        "id": "d0aFVZhbzI9f",
        "outputId": "1a270fcd-5d3d-4d6a-bb38-6142391edded"
      },
      "execution_count": 33,
      "outputs": [
        {
          "output_type": "stream",
          "name": "stdout",
          "text": [
            "313/313 [==============================] - 2s 5ms/step - loss: 1.2807 - accuracy: 0.6847\n"
          ]
        },
        {
          "output_type": "execute_result",
          "data": {
            "text/plain": [
              "[1.2807492017745972, 0.6847000122070312]"
            ]
          },
          "metadata": {},
          "execution_count": 33
        }
      ]
    },
    {
      "cell_type": "markdown",
      "source": [
        "Let's try now with transfer learning using vgg16 on imagenet."
      ],
      "metadata": {
        "id": "6DUAL5-z_i9P"
      }
    },
    {
      "cell_type": "code",
      "source": [
        "vgg_model= vgg16.VGG16(include_top=False,\n",
        "                       input_shape=(32,32,3))"
      ],
      "metadata": {
        "colab": {
          "base_uri": "https://localhost:8080/"
        },
        "id": "8FyyRbYV_fqS",
        "outputId": "ce5414c5-5981-49a3-86ca-bd12bee386cc"
      },
      "execution_count": 10,
      "outputs": [
        {
          "output_type": "stream",
          "name": "stdout",
          "text": [
            "Downloading data from https://storage.googleapis.com/tensorflow/keras-applications/vgg16/vgg16_weights_tf_dim_ordering_tf_kernels_notop.h5\n",
            "58892288/58889256 [==============================] - 0s 0us/step\n",
            "58900480/58889256 [==============================] - 0s 0us/step\n"
          ]
        }
      ]
    },
    {
      "cell_type": "code",
      "source": [
        "vgg_model.trainable = False"
      ],
      "metadata": {
        "id": "yrXZK4rpAed1"
      },
      "execution_count": 11,
      "outputs": []
    },
    {
      "cell_type": "code",
      "source": [
        "vgg_model.output_shape"
      ],
      "metadata": {
        "colab": {
          "base_uri": "https://localhost:8080/"
        },
        "id": "p7Wq3Xp0BT6_",
        "outputId": "94279edd-169e-4483-a037-c5284b472163"
      },
      "execution_count": 12,
      "outputs": [
        {
          "output_type": "execute_result",
          "data": {
            "text/plain": [
              "(None, 1, 1, 512)"
            ]
          },
          "metadata": {},
          "execution_count": 12
        }
      ]
    },
    {
      "cell_type": "code",
      "source": [
        "input=Input(shape=(32,32,3))\n",
        "x = vgg_model(input)\n",
        "x=Flatten()(x)\n",
        "x=Dense(64,activation='relu')(x)\n",
        "x=Dense(32,activation='relu')(x)\n",
        "output= Dense(10, activation='softmax')(x)\n",
        "model= Model(input,output)\n",
        "model.compile(optimizer='adam',metrics='accuracy',loss='SparseCategoricalCrossentropy')"
      ],
      "metadata": {
        "id": "fi1xDtR09xni"
      },
      "execution_count": 18,
      "outputs": []
    },
    {
      "cell_type": "code",
      "source": [
        "model.summary()"
      ],
      "metadata": {
        "colab": {
          "base_uri": "https://localhost:8080/"
        },
        "id": "1eGxcDV2BQDA",
        "outputId": "e8f4318d-3a0e-4644-f7f8-7eb9227f5333"
      },
      "execution_count": 19,
      "outputs": [
        {
          "output_type": "stream",
          "name": "stdout",
          "text": [
            "Model: \"model_2\"\n",
            "_________________________________________________________________\n",
            " Layer (type)                Output Shape              Param #   \n",
            "=================================================================\n",
            " input_4 (InputLayer)        [(None, 32, 32, 3)]       0         \n",
            "                                                                 \n",
            " vgg16 (Functional)          (None, 1, 1, 512)         14714688  \n",
            "                                                                 \n",
            " flatten_2 (Flatten)         (None, 512)               0         \n",
            "                                                                 \n",
            " dense_6 (Dense)             (None, 64)                32832     \n",
            "                                                                 \n",
            " dense_7 (Dense)             (None, 32)                2080      \n",
            "                                                                 \n",
            " dense_8 (Dense)             (None, 10)                330       \n",
            "                                                                 \n",
            "=================================================================\n",
            "Total params: 14,749,930\n",
            "Trainable params: 35,242\n",
            "Non-trainable params: 14,714,688\n",
            "_________________________________________________________________\n"
          ]
        }
      ]
    },
    {
      "cell_type": "code",
      "source": [
        "model.fit(x_train,y_train,epochs=20,verbose=2)"
      ],
      "metadata": {
        "colab": {
          "base_uri": "https://localhost:8080/"
        },
        "id": "-ocpwIAnBiPI",
        "outputId": "a1e208e8-69b6-44d3-f9fa-cdf8f09c67c0"
      },
      "execution_count": 21,
      "outputs": [
        {
          "output_type": "stream",
          "name": "stdout",
          "text": [
            "Epoch 1/20\n",
            "1563/1563 - 27s - loss: 1.5880 - accuracy: 0.4378 - 27s/epoch - 17ms/step\n",
            "Epoch 2/20\n",
            "1563/1563 - 27s - loss: 1.2606 - accuracy: 0.5629 - 27s/epoch - 17ms/step\n",
            "Epoch 3/20\n",
            "1563/1563 - 27s - loss: 1.1567 - accuracy: 0.6035 - 27s/epoch - 17ms/step\n",
            "Epoch 4/20\n",
            "1563/1563 - 27s - loss: 1.0988 - accuracy: 0.6213 - 27s/epoch - 17ms/step\n",
            "Epoch 5/20\n",
            "1563/1563 - 27s - loss: 1.0510 - accuracy: 0.6344 - 27s/epoch - 17ms/step\n",
            "Epoch 6/20\n",
            "1563/1563 - 27s - loss: 1.0127 - accuracy: 0.6498 - 27s/epoch - 17ms/step\n",
            "Epoch 7/20\n",
            "1563/1563 - 27s - loss: 0.9778 - accuracy: 0.6626 - 27s/epoch - 17ms/step\n",
            "Epoch 8/20\n",
            "1563/1563 - 27s - loss: 0.9491 - accuracy: 0.6720 - 27s/epoch - 17ms/step\n",
            "Epoch 9/20\n",
            "1563/1563 - 27s - loss: 0.9221 - accuracy: 0.6827 - 27s/epoch - 17ms/step\n",
            "Epoch 10/20\n",
            "1563/1563 - 27s - loss: 0.8952 - accuracy: 0.6888 - 27s/epoch - 17ms/step\n",
            "Epoch 11/20\n",
            "1563/1563 - 27s - loss: 0.8742 - accuracy: 0.6947 - 27s/epoch - 17ms/step\n",
            "Epoch 12/20\n",
            "1563/1563 - 27s - loss: 0.8527 - accuracy: 0.7032 - 27s/epoch - 17ms/step\n",
            "Epoch 13/20\n",
            "1563/1563 - 27s - loss: 0.8375 - accuracy: 0.7103 - 27s/epoch - 17ms/step\n",
            "Epoch 14/20\n",
            "1563/1563 - 27s - loss: 0.8190 - accuracy: 0.7142 - 27s/epoch - 17ms/step\n",
            "Epoch 15/20\n",
            "1563/1563 - 27s - loss: 0.8051 - accuracy: 0.7189 - 27s/epoch - 17ms/step\n",
            "Epoch 16/20\n",
            "1563/1563 - 27s - loss: 0.7896 - accuracy: 0.7242 - 27s/epoch - 17ms/step\n",
            "Epoch 17/20\n",
            "1563/1563 - 27s - loss: 0.7759 - accuracy: 0.7305 - 27s/epoch - 17ms/step\n",
            "Epoch 18/20\n",
            "1563/1563 - 27s - loss: 0.7631 - accuracy: 0.7332 - 27s/epoch - 17ms/step\n",
            "Epoch 19/20\n",
            "1563/1563 - 27s - loss: 0.7518 - accuracy: 0.7370 - 27s/epoch - 17ms/step\n",
            "Epoch 20/20\n",
            "1563/1563 - 27s - loss: 0.7415 - accuracy: 0.7395 - 27s/epoch - 17ms/step\n"
          ]
        },
        {
          "output_type": "execute_result",
          "data": {
            "text/plain": [
              "<keras.callbacks.History at 0x7f948e415090>"
            ]
          },
          "metadata": {},
          "execution_count": 21
        }
      ]
    },
    {
      "cell_type": "code",
      "source": [
        "model.evaluate(x_test,y_test)"
      ],
      "metadata": {
        "colab": {
          "base_uri": "https://localhost:8080/"
        },
        "id": "ETunXsVBCl6W",
        "outputId": "232284c4-72e7-4117-f599-3ee0c5e57be6"
      },
      "execution_count": 22,
      "outputs": [
        {
          "output_type": "stream",
          "name": "stdout",
          "text": [
            "313/313 [==============================] - 6s 20ms/step - loss: 1.4527 - accuracy: 0.5901\n"
          ]
        },
        {
          "output_type": "execute_result",
          "data": {
            "text/plain": [
              "[1.4527007341384888, 0.5900999903678894]"
            ]
          },
          "metadata": {},
          "execution_count": 22
        }
      ]
    },
    {
      "cell_type": "code",
      "source": [
        ""
      ],
      "metadata": {
        "id": "WHY032ERM2bB"
      },
      "execution_count": null,
      "outputs": []
    }
  ]
}