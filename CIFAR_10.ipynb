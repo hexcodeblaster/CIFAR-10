{
  "nbformat": 4,
  "nbformat_minor": 0,
  "metadata": {
    "colab": {
      "name": "CIFAR 10.ipynb",
      "provenance": [],
      "authorship_tag": "ABX9TyMDZFE4RTffrPo3MPdtSHaX",
      "include_colab_link": true
    },
    "kernelspec": {
      "name": "python3",
      "display_name": "Python 3"
    },
    "language_info": {
      "name": "python"
    },
    "accelerator": "GPU"
  },
  "cells": [
    {
      "cell_type": "markdown",
      "metadata": {
        "id": "view-in-github",
        "colab_type": "text"
      },
      "source": [
        "<a href=\"https://colab.research.google.com/github/hexcodeblaster/CIFAR-10/blob/main/CIFAR_10.ipynb\" target=\"_parent\"><img src=\"https://colab.research.google.com/assets/colab-badge.svg\" alt=\"Open In Colab\"/></a>"
      ]
    },
    {
      "cell_type": "code",
      "execution_count": 17,
      "metadata": {
        "id": "K-crSWRXuTAs"
      },
      "outputs": [],
      "source": [
        "from keras.layers import Conv2D,MaxPool2D,Flatten,Dense,Input,Dropout\n",
        "from keras.datasets import cifar10\n",
        "from keras import Model\n",
        "from keras.applications import vgg16\n",
        "import numpy as np"
      ]
    },
    {
      "cell_type": "code",
      "source": [
        "(x_train, y_train), (x_test, y_test) = cifar10.load_data()"
      ],
      "metadata": {
        "id": "DbjTW-1wuayr"
      },
      "execution_count": 18,
      "outputs": []
    },
    {
      "cell_type": "code",
      "source": [
        "x_train.shape"
      ],
      "metadata": {
        "colab": {
          "base_uri": "https://localhost:8080/"
        },
        "id": "n3l_O7TVwVqW",
        "outputId": "075cb3b6-c936-419f-b400-2f38ee8810ec"
      },
      "execution_count": 19,
      "outputs": [
        {
          "output_type": "execute_result",
          "data": {
            "text/plain": [
              "(50000, 32, 32, 3)"
            ]
          },
          "metadata": {},
          "execution_count": 19
        }
      ]
    },
    {
      "cell_type": "code",
      "source": [
        "x_test.shape"
      ],
      "metadata": {
        "colab": {
          "base_uri": "https://localhost:8080/"
        },
        "id": "Gv7WKPxLwYPu",
        "outputId": "1ab89c26-b29a-4f43-d558-9f294d7e967f"
      },
      "execution_count": 20,
      "outputs": [
        {
          "output_type": "execute_result",
          "data": {
            "text/plain": [
              "(10000, 32, 32, 3)"
            ]
          },
          "metadata": {},
          "execution_count": 20
        }
      ]
    },
    {
      "cell_type": "code",
      "source": [
        "y_train.shape"
      ],
      "metadata": {
        "colab": {
          "base_uri": "https://localhost:8080/"
        },
        "id": "sIo0K6gywZ8A",
        "outputId": "991cefb4-a517-46cb-cf8f-225f8846aa9a"
      },
      "execution_count": 21,
      "outputs": [
        {
          "output_type": "execute_result",
          "data": {
            "text/plain": [
              "(50000, 1)"
            ]
          },
          "metadata": {},
          "execution_count": 21
        }
      ]
    },
    {
      "cell_type": "code",
      "source": [
        "y_test.shape"
      ],
      "metadata": {
        "colab": {
          "base_uri": "https://localhost:8080/"
        },
        "id": "YdgKPscTwcVL",
        "outputId": "28cac4a6-ed1a-4d7d-8bad-9c18d49f3259"
      },
      "execution_count": 22,
      "outputs": [
        {
          "output_type": "execute_result",
          "data": {
            "text/plain": [
              "(10000, 1)"
            ]
          },
          "metadata": {},
          "execution_count": 22
        }
      ]
    },
    {
      "cell_type": "code",
      "source": [
        "y_train=y_train.flatten()\n",
        "y_test= y_test.flatten()"
      ],
      "metadata": {
        "id": "9UHM6b_QzrN3"
      },
      "execution_count": 24,
      "outputs": []
    },
    {
      "cell_type": "code",
      "source": [
        "x_train = x_train/255\n",
        "x_test = x_test/255"
      ],
      "metadata": {
        "id": "0oYP4P0SzZaS"
      },
      "execution_count": 25,
      "outputs": []
    },
    {
      "cell_type": "code",
      "source": [
        "input=Input(shape=(32,32,3))\n",
        "x= Conv2D(32,3, activation='relu')(input)\n",
        "x= MaxPool2D()(x)\n",
        "x= Conv2D(64,3,activation='relu')(x)\n",
        "x= MaxPool2D()(x)\n",
        "x= Conv2D(128,3,activation='relu')(x)\n",
        "x= MaxPool2D()(x)\n",
        "x= Flatten()(x)\n",
        "x= Dense(64,activation='relu')(x)\n",
        "x= Dense(32,activation='relu')(x)\n",
        "x= Dropout(0.2)(x)\n",
        "x= Dense(32,activation='relu')(x)\n",
        "output= Dense(10, activation='softmax')(x)\n",
        "model= Model(input,output)\n",
        "model.compile(optimizer='adam',metrics='accuracy',loss='SparseCategoricalCrossentropy',)"
      ],
      "metadata": {
        "id": "lormKxR8wdHM"
      },
      "execution_count": 26,
      "outputs": []
    },
    {
      "cell_type": "code",
      "source": [
        "model.summary()"
      ],
      "metadata": {
        "colab": {
          "base_uri": "https://localhost:8080/"
        },
        "id": "o1LEZgQoyuYL",
        "outputId": "8a5d6df1-4da9-4bf0-e67a-bf7f6ceb5c69"
      },
      "execution_count": 27,
      "outputs": [
        {
          "output_type": "stream",
          "name": "stdout",
          "text": [
            "Model: \"model\"\n",
            "_________________________________________________________________\n",
            " Layer (type)                Output Shape              Param #   \n",
            "=================================================================\n",
            " input_1 (InputLayer)        [(None, 32, 32, 3)]       0         \n",
            "                                                                 \n",
            " conv2d (Conv2D)             (None, 30, 30, 32)        896       \n",
            "                                                                 \n",
            " max_pooling2d (MaxPooling2D  (None, 15, 15, 32)       0         \n",
            " )                                                               \n",
            "                                                                 \n",
            " conv2d_1 (Conv2D)           (None, 13, 13, 64)        18496     \n",
            "                                                                 \n",
            " max_pooling2d_1 (MaxPooling  (None, 6, 6, 64)         0         \n",
            " 2D)                                                             \n",
            "                                                                 \n",
            " conv2d_2 (Conv2D)           (None, 4, 4, 128)         73856     \n",
            "                                                                 \n",
            " max_pooling2d_2 (MaxPooling  (None, 2, 2, 128)        0         \n",
            " 2D)                                                             \n",
            "                                                                 \n",
            " flatten (Flatten)           (None, 512)               0         \n",
            "                                                                 \n",
            " dense (Dense)               (None, 64)                32832     \n",
            "                                                                 \n",
            " dense_1 (Dense)             (None, 32)                2080      \n",
            "                                                                 \n",
            " dropout (Dropout)           (None, 32)                0         \n",
            "                                                                 \n",
            " dense_2 (Dense)             (None, 32)                1056      \n",
            "                                                                 \n",
            " dense_3 (Dense)             (None, 10)                330       \n",
            "                                                                 \n",
            "=================================================================\n",
            "Total params: 129,546\n",
            "Trainable params: 129,546\n",
            "Non-trainable params: 0\n",
            "_________________________________________________________________\n"
          ]
        }
      ]
    },
    {
      "cell_type": "code",
      "source": [
        "model.fit(x_train,y_train,epochs=40,verbose=2)"
      ],
      "metadata": {
        "colab": {
          "base_uri": "https://localhost:8080/"
        },
        "id": "AnS_bknjywLh",
        "outputId": "e255665b-16e8-48ce-a035-1d19a903e38d"
      },
      "execution_count": 28,
      "outputs": [
        {
          "output_type": "stream",
          "name": "stdout",
          "text": [
            "Epoch 1/40\n",
            "1563/1563 - 20s - loss: 1.6829 - accuracy: 0.3682 - 20s/epoch - 13ms/step\n",
            "Epoch 2/40\n",
            "1563/1563 - 9s - loss: 1.2773 - accuracy: 0.5433 - 9s/epoch - 6ms/step\n",
            "Epoch 3/40\n",
            "1563/1563 - 9s - loss: 1.1106 - accuracy: 0.6105 - 9s/epoch - 6ms/step\n",
            "Epoch 4/40\n",
            "1563/1563 - 9s - loss: 1.0002 - accuracy: 0.6530 - 9s/epoch - 6ms/step\n",
            "Epoch 5/40\n",
            "1563/1563 - 9s - loss: 0.9166 - accuracy: 0.6823 - 9s/epoch - 6ms/step\n",
            "Epoch 6/40\n",
            "1563/1563 - 9s - loss: 0.8444 - accuracy: 0.7095 - 9s/epoch - 6ms/step\n",
            "Epoch 7/40\n",
            "1563/1563 - 9s - loss: 0.7941 - accuracy: 0.7271 - 9s/epoch - 6ms/step\n",
            "Epoch 8/40\n",
            "1563/1563 - 9s - loss: 0.7445 - accuracy: 0.7427 - 9s/epoch - 6ms/step\n",
            "Epoch 9/40\n",
            "1563/1563 - 9s - loss: 0.7032 - accuracy: 0.7579 - 9s/epoch - 6ms/step\n",
            "Epoch 10/40\n",
            "1563/1563 - 9s - loss: 0.6645 - accuracy: 0.7714 - 9s/epoch - 6ms/step\n",
            "Epoch 11/40\n",
            "1563/1563 - 9s - loss: 0.6281 - accuracy: 0.7843 - 9s/epoch - 6ms/step\n",
            "Epoch 12/40\n",
            "1563/1563 - 9s - loss: 0.5996 - accuracy: 0.7968 - 9s/epoch - 6ms/step\n",
            "Epoch 13/40\n",
            "1563/1563 - 9s - loss: 0.5694 - accuracy: 0.8054 - 9s/epoch - 6ms/step\n",
            "Epoch 14/40\n",
            "1563/1563 - 9s - loss: 0.5419 - accuracy: 0.8145 - 9s/epoch - 6ms/step\n",
            "Epoch 15/40\n",
            "1563/1563 - 9s - loss: 0.5211 - accuracy: 0.8214 - 9s/epoch - 6ms/step\n",
            "Epoch 16/40\n",
            "1563/1563 - 9s - loss: 0.4925 - accuracy: 0.8321 - 9s/epoch - 6ms/step\n",
            "Epoch 17/40\n",
            "1563/1563 - 9s - loss: 0.4691 - accuracy: 0.8400 - 9s/epoch - 6ms/step\n",
            "Epoch 18/40\n",
            "1563/1563 - 9s - loss: 0.4535 - accuracy: 0.8455 - 9s/epoch - 6ms/step\n",
            "Epoch 19/40\n",
            "1563/1563 - 9s - loss: 0.4284 - accuracy: 0.8530 - 9s/epoch - 6ms/step\n",
            "Epoch 20/40\n",
            "1563/1563 - 9s - loss: 0.4142 - accuracy: 0.8572 - 9s/epoch - 6ms/step\n",
            "Epoch 21/40\n",
            "1563/1563 - 9s - loss: 0.3944 - accuracy: 0.8661 - 9s/epoch - 6ms/step\n",
            "Epoch 22/40\n",
            "1563/1563 - 9s - loss: 0.3800 - accuracy: 0.8711 - 9s/epoch - 6ms/step\n",
            "Epoch 23/40\n",
            "1563/1563 - 9s - loss: 0.3674 - accuracy: 0.8740 - 9s/epoch - 6ms/step\n",
            "Epoch 24/40\n",
            "1563/1563 - 9s - loss: 0.3507 - accuracy: 0.8795 - 9s/epoch - 6ms/step\n",
            "Epoch 25/40\n",
            "1563/1563 - 9s - loss: 0.3371 - accuracy: 0.8854 - 9s/epoch - 6ms/step\n",
            "Epoch 26/40\n",
            "1563/1563 - 9s - loss: 0.3261 - accuracy: 0.8884 - 9s/epoch - 6ms/step\n",
            "Epoch 27/40\n",
            "1563/1563 - 9s - loss: 0.3146 - accuracy: 0.8939 - 9s/epoch - 6ms/step\n",
            "Epoch 28/40\n",
            "1563/1563 - 9s - loss: 0.3006 - accuracy: 0.8972 - 9s/epoch - 6ms/step\n",
            "Epoch 29/40\n",
            "1563/1563 - 9s - loss: 0.2922 - accuracy: 0.9004 - 9s/epoch - 6ms/step\n",
            "Epoch 30/40\n",
            "1563/1563 - 9s - loss: 0.2841 - accuracy: 0.9050 - 9s/epoch - 6ms/step\n",
            "Epoch 31/40\n",
            "1563/1563 - 9s - loss: 0.2730 - accuracy: 0.9079 - 9s/epoch - 6ms/step\n",
            "Epoch 32/40\n",
            "1563/1563 - 9s - loss: 0.2605 - accuracy: 0.9110 - 9s/epoch - 6ms/step\n",
            "Epoch 33/40\n",
            "1563/1563 - 9s - loss: 0.2549 - accuracy: 0.9144 - 9s/epoch - 6ms/step\n",
            "Epoch 34/40\n",
            "1563/1563 - 9s - loss: 0.2522 - accuracy: 0.9154 - 9s/epoch - 6ms/step\n",
            "Epoch 35/40\n",
            "1563/1563 - 9s - loss: 0.2408 - accuracy: 0.9184 - 9s/epoch - 6ms/step\n",
            "Epoch 36/40\n",
            "1563/1563 - 9s - loss: 0.2359 - accuracy: 0.9208 - 9s/epoch - 6ms/step\n",
            "Epoch 37/40\n",
            "1563/1563 - 9s - loss: 0.2236 - accuracy: 0.9258 - 9s/epoch - 6ms/step\n",
            "Epoch 38/40\n",
            "1563/1563 - 9s - loss: 0.2196 - accuracy: 0.9278 - 9s/epoch - 6ms/step\n",
            "Epoch 39/40\n",
            "1563/1563 - 9s - loss: 0.2134 - accuracy: 0.9287 - 9s/epoch - 6ms/step\n",
            "Epoch 40/40\n",
            "1563/1563 - 9s - loss: 0.2031 - accuracy: 0.9322 - 9s/epoch - 6ms/step\n"
          ]
        },
        {
          "output_type": "execute_result",
          "data": {
            "text/plain": [
              "<keras.callbacks.History at 0x7f6f80150750>"
            ]
          },
          "metadata": {},
          "execution_count": 28
        }
      ]
    },
    {
      "cell_type": "code",
      "source": [
        "model.evaluate(x_test,y_test)"
      ],
      "metadata": {
        "colab": {
          "base_uri": "https://localhost:8080/"
        },
        "id": "d0aFVZhbzI9f",
        "outputId": "70be3527-feed-4296-936f-ee512f0b0bbf"
      },
      "execution_count": 29,
      "outputs": [
        {
          "output_type": "stream",
          "name": "stdout",
          "text": [
            "313/313 [==============================] - 2s 5ms/step - loss: 1.4154 - accuracy: 0.7043\n"
          ]
        },
        {
          "output_type": "execute_result",
          "data": {
            "text/plain": [
              "[1.4153568744659424, 0.7042999863624573]"
            ]
          },
          "metadata": {},
          "execution_count": 29
        }
      ]
    },
    {
      "cell_type": "markdown",
      "source": [
        "We can see that the accuracy is nearly 70%.\n",
        "Let's try now with transfer learning using vgg16 on imagenet."
      ],
      "metadata": {
        "id": "6DUAL5-z_i9P"
      }
    },
    {
      "cell_type": "code",
      "source": [
        "vgg_model= vgg16.VGG16(include_top=False,\n",
        "                       input_shape=(32,32,3))"
      ],
      "metadata": {
        "colab": {
          "base_uri": "https://localhost:8080/"
        },
        "id": "8FyyRbYV_fqS",
        "outputId": "c85ecdb4-ae8e-4443-8829-2590c2e285cc"
      },
      "execution_count": 30,
      "outputs": [
        {
          "output_type": "stream",
          "name": "stdout",
          "text": [
            "Downloading data from https://storage.googleapis.com/tensorflow/keras-applications/vgg16/vgg16_weights_tf_dim_ordering_tf_kernels_notop.h5\n",
            "58892288/58889256 [==============================] - 2s 0us/step\n",
            "58900480/58889256 [==============================] - 2s 0us/step\n"
          ]
        }
      ]
    },
    {
      "cell_type": "code",
      "source": [
        "vgg_model.trainable = False"
      ],
      "metadata": {
        "id": "yrXZK4rpAed1"
      },
      "execution_count": 31,
      "outputs": []
    },
    {
      "cell_type": "code",
      "source": [
        "vgg_model.output_shape"
      ],
      "metadata": {
        "colab": {
          "base_uri": "https://localhost:8080/"
        },
        "id": "p7Wq3Xp0BT6_",
        "outputId": "97fbc7de-aa13-497a-d9f3-156ea92065e1"
      },
      "execution_count": 32,
      "outputs": [
        {
          "output_type": "execute_result",
          "data": {
            "text/plain": [
              "(None, 1, 1, 512)"
            ]
          },
          "metadata": {},
          "execution_count": 32
        }
      ]
    },
    {
      "cell_type": "code",
      "source": [
        "input=Input(shape=(32,32,3))\n",
        "x = vgg_model(input)\n",
        "x=Flatten()(x)\n",
        "x=Dense(64,activation='relu')(x)\n",
        "x=Dense(32,activation='relu')(x)\n",
        "output= Dense(10, activation='softmax')(x)\n",
        "model= Model(input,output)\n",
        "model.compile(optimizer='adam',metrics='accuracy',loss='SparseCategoricalCrossentropy')"
      ],
      "metadata": {
        "id": "fi1xDtR09xni"
      },
      "execution_count": 33,
      "outputs": []
    },
    {
      "cell_type": "code",
      "source": [
        "model.summary()"
      ],
      "metadata": {
        "colab": {
          "base_uri": "https://localhost:8080/"
        },
        "id": "1eGxcDV2BQDA",
        "outputId": "712f51e3-12e1-40e9-80ad-3b5f2737080f"
      },
      "execution_count": 34,
      "outputs": [
        {
          "output_type": "stream",
          "name": "stdout",
          "text": [
            "Model: \"model_1\"\n",
            "_________________________________________________________________\n",
            " Layer (type)                Output Shape              Param #   \n",
            "=================================================================\n",
            " input_3 (InputLayer)        [(None, 32, 32, 3)]       0         \n",
            "                                                                 \n",
            " vgg16 (Functional)          (None, 1, 1, 512)         14714688  \n",
            "                                                                 \n",
            " flatten_1 (Flatten)         (None, 512)               0         \n",
            "                                                                 \n",
            " dense_4 (Dense)             (None, 64)                32832     \n",
            "                                                                 \n",
            " dense_5 (Dense)             (None, 32)                2080      \n",
            "                                                                 \n",
            " dense_6 (Dense)             (None, 10)                330       \n",
            "                                                                 \n",
            "=================================================================\n",
            "Total params: 14,749,930\n",
            "Trainable params: 35,242\n",
            "Non-trainable params: 14,714,688\n",
            "_________________________________________________________________\n"
          ]
        }
      ]
    },
    {
      "cell_type": "code",
      "source": [
        "model.fit(x_train,y_train,epochs=20,verbose=2)"
      ],
      "metadata": {
        "colab": {
          "base_uri": "https://localhost:8080/"
        },
        "id": "-ocpwIAnBiPI",
        "outputId": "d7ea528a-3560-4737-89ac-22c5e74b574f"
      },
      "execution_count": 35,
      "outputs": [
        {
          "output_type": "stream",
          "name": "stdout",
          "text": [
            "Epoch 1/20\n",
            "1563/1563 - 28s - loss: 1.4185 - accuracy: 0.5028 - 28s/epoch - 18ms/step\n",
            "Epoch 2/20\n",
            "1563/1563 - 27s - loss: 1.2116 - accuracy: 0.5753 - 27s/epoch - 17ms/step\n",
            "Epoch 3/20\n",
            "1563/1563 - 27s - loss: 1.1560 - accuracy: 0.5944 - 27s/epoch - 17ms/step\n",
            "Epoch 4/20\n",
            "1563/1563 - 27s - loss: 1.1196 - accuracy: 0.6101 - 27s/epoch - 18ms/step\n",
            "Epoch 5/20\n",
            "1563/1563 - 27s - loss: 1.0940 - accuracy: 0.6177 - 27s/epoch - 17ms/step\n",
            "Epoch 6/20\n",
            "1563/1563 - 27s - loss: 1.0742 - accuracy: 0.6246 - 27s/epoch - 17ms/step\n",
            "Epoch 7/20\n",
            "1563/1563 - 27s - loss: 1.0570 - accuracy: 0.6326 - 27s/epoch - 17ms/step\n",
            "Epoch 8/20\n",
            "1563/1563 - 27s - loss: 1.0413 - accuracy: 0.6367 - 27s/epoch - 17ms/step\n",
            "Epoch 9/20\n",
            "1563/1563 - 27s - loss: 1.0254 - accuracy: 0.6404 - 27s/epoch - 17ms/step\n",
            "Epoch 10/20\n",
            "1563/1563 - 27s - loss: 1.0127 - accuracy: 0.6443 - 27s/epoch - 17ms/step\n",
            "Epoch 11/20\n",
            "1563/1563 - 27s - loss: 0.9978 - accuracy: 0.6511 - 27s/epoch - 17ms/step\n",
            "Epoch 12/20\n",
            "1563/1563 - 27s - loss: 0.9856 - accuracy: 0.6556 - 27s/epoch - 17ms/step\n",
            "Epoch 13/20\n",
            "1563/1563 - 27s - loss: 0.9750 - accuracy: 0.6591 - 27s/epoch - 17ms/step\n",
            "Epoch 14/20\n",
            "1563/1563 - 27s - loss: 0.9648 - accuracy: 0.6615 - 27s/epoch - 17ms/step\n",
            "Epoch 15/20\n",
            "1563/1563 - 27s - loss: 0.9533 - accuracy: 0.6655 - 27s/epoch - 17ms/step\n",
            "Epoch 16/20\n",
            "1563/1563 - 27s - loss: 0.9452 - accuracy: 0.6683 - 27s/epoch - 17ms/step\n",
            "Epoch 17/20\n",
            "1563/1563 - 27s - loss: 0.9348 - accuracy: 0.6721 - 27s/epoch - 17ms/step\n",
            "Epoch 18/20\n",
            "1563/1563 - 27s - loss: 0.9266 - accuracy: 0.6755 - 27s/epoch - 17ms/step\n",
            "Epoch 19/20\n",
            "1563/1563 - 27s - loss: 0.9185 - accuracy: 0.6773 - 27s/epoch - 17ms/step\n",
            "Epoch 20/20\n",
            "1563/1563 - 27s - loss: 0.9101 - accuracy: 0.6815 - 27s/epoch - 17ms/step\n"
          ]
        },
        {
          "output_type": "execute_result",
          "data": {
            "text/plain": [
              "<keras.callbacks.History at 0x7f6f1680bcd0>"
            ]
          },
          "metadata": {},
          "execution_count": 35
        }
      ]
    },
    {
      "cell_type": "code",
      "source": [
        "model.evaluate(x_test,y_test)"
      ],
      "metadata": {
        "colab": {
          "base_uri": "https://localhost:8080/"
        },
        "id": "ETunXsVBCl6W",
        "outputId": "a452163c-b95c-4fdb-b1fc-2abe3a24d5ef"
      },
      "execution_count": 36,
      "outputs": [
        {
          "output_type": "stream",
          "name": "stdout",
          "text": [
            "313/313 [==============================] - 6s 19ms/step - loss: 1.1804 - accuracy: 0.6069\n"
          ]
        },
        {
          "output_type": "execute_result",
          "data": {
            "text/plain": [
              "[1.180371642112732, 0.6068999767303467]"
            ]
          },
          "metadata": {},
          "execution_count": 36
        }
      ]
    },
    {
      "cell_type": "markdown",
      "source": [
        "We can observe the accuracy is about 60%. So sometimes the imagenet wegits might not work so good since the dimension of the sample images are very small compared to the ones of imagenets in which, the vgg16  model was trained."
      ],
      "metadata": {
        "id": "xH5iFc0StE5M"
      }
    },
    {
      "cell_type": "code",
      "source": [
        ""
      ],
      "metadata": {
        "id": "WHY032ERM2bB"
      },
      "execution_count": null,
      "outputs": []
    }
  ]
}